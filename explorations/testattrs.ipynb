{
 "cells": [
  {
   "cell_type": "code",
   "execution_count": 7,
   "metadata": {},
   "outputs": [
    {
     "name": "stdout",
     "output_type": "stream",
     "text": [
      "Dummy\n"
     ]
    }
   ],
   "source": [
    "tbls = {'a' : 1,\n",
    "        'b' : 2,\n",
    "        'c' : 3,\n",
    "        'dummy': 'dummy'}\n",
    "\n",
    "class Attr:\n",
    "    def __init__(self, tables):\n",
    "        self.tables = tables\n",
    "\n",
    "    def dummy(self):\n",
    "        print('Dummy')\n",
    "\n",
    "    def __getattr__(self, __name):\n",
    "        return self.tables[__name]\n",
    "    \n",
    "tbls_by_attrs = Attr(tbls)\n",
    "\n",
    "tbls_by_attrs.dummy()"
   ]
  }
 ],
 "metadata": {
  "kernelspec": {
   "display_name": "venv",
   "language": "python",
   "name": "python3"
  },
  "language_info": {
   "codemirror_mode": {
    "name": "ipython",
    "version": 3
   },
   "file_extension": ".py",
   "mimetype": "text/x-python",
   "name": "python",
   "nbconvert_exporter": "python",
   "pygments_lexer": "ipython3",
   "version": "3.11.3"
  },
  "orig_nbformat": 4
 },
 "nbformat": 4,
 "nbformat_minor": 2
}
