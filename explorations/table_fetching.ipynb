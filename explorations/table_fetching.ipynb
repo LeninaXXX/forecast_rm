{
 "cells": [
  {
   "cell_type": "code",
   "execution_count": 3,
   "metadata": {},
   "outputs": [],
   "source": [
    "import pyodbc\n",
    "import itertools\n",
    "import pickle\n",
    "from datetime import datetime\n",
    "\n",
    "# SQL Tables corresponding to:\n",
    "#   * Diario\n",
    "#   * Parcial Mensual\n",
    "#   * Mensual\n",
    "daily_pfx = 'GA_DIARIO'\n",
    "monthly_pfx = 'GA_MENSUALPARCIAL'\n",
    "partial_month_pfx = 'GA_MENSUAL'\n",
    "sufixes = (\n",
    "    '',\n",
    "    '_sinPlayer',\n",
    "     ### '_xAffinity',\n",
    "    '_xCanal',\n",
    "    '_xDispositivo',\n",
    "    '_xFuente',\n",
    "    '_xHostname',\n",
    "    '_xPagina',\n",
    "    '_xPais',\n",
    "    '_xPais_xDispositivo',\n",
    "    '_xPlayer',\n",
    "    '_xSocialMedia'\n",
    ")\n",
    "# tables_gen = map(lambda t: t[0] + t[1], itertools.product((daily_pfx, monthly_pfx, partial_month_pfx), sufixes))\n",
    "tables_gen = (daily_pfx, monthly_pfx, partial_month_pfx)"
   ]
  },
  {
   "cell_type": "code",
   "execution_count": 4,
   "metadata": {},
   "outputs": [
    {
     "name": "stdout",
     "output_type": "stream",
     "text": [
      "Table GA_DIARIO fetching took :: 0:00:00.630536 // Rows in Table :: 17158\n",
      "table_picklefiles/table_GA_DIARIO.pkl\n",
      "Table GA_DIARIO pickling took :: 0:00:00.128393\n",
      "===============================================\n",
      "Table GA_MENSUALPARCIAL fetching took :: 0:00:01.032648 // Rows in Table :: 22754\n",
      "table_picklefiles/table_GA_MENSUALPARCIAL.pkl\n",
      "Table GA_MENSUALPARCIAL pickling took :: 0:00:00.168478\n",
      "=======================================================\n",
      "Table GA_MENSUAL fetching took :: 0:00:00.052758 // Rows in Table :: 1270\n",
      "table_picklefiles/table_GA_MENSUAL.pkl\n",
      "Table GA_MENSUAL pickling took :: 0:00:00.007016\n",
      "================================================\n",
      "All tables pickling took :: 0:00:00.353659\n",
      "==========================================\n",
      "\tPROCESS TOOK 0:00:02.375872\n"
     ]
    }
   ],
   "source": [
    "conn = pyodbc.connect(\n",
    "    'Driver={SQL Server};' +\n",
    "\t'Server=192.168.100.18;' +\n",
    "\t'Database='+ 'ANALITICA' + ';' +\n",
    "\t'UID=python_externo;' +\n",
    "\t'PWD=MazzPythonNew'\n",
    ")\n",
    "cursor = conn.cursor()\n",
    "\n",
    "tables = {}\n",
    "time_procbeg = datetime.now()\n",
    "for table_name in tables_gen:\n",
    "\t# fetching fom database\n",
    "\ttime_beg = datetime.now()\n",
    "\ttable_sel = cursor.execute(f'SELECT * FROM {table_name}')\n",
    "\ttables[table_name] = table_sel.fetchall()\n",
    "\ttime_end = datetime.now()\n",
    "\tprint(f'Table {table_name} fetching took :: {time_end - time_beg} // Rows in Table :: {len(tables[table_name])}')\n",
    "\t\n",
    "\t# pickling table to its table file\n",
    "\ttime_beg = datetime.now()\n",
    "\tprint(f'table_picklefiles/table_{table_name}.pkl')\n",
    "\twith open(f'table_picklefiles/table_{table_name}.pkl', 'wb') as pkl_file:\n",
    "\t\tpickle.dump(tables[table_name], pkl_file)\n",
    "\ttime_end = datetime.now()\n",
    "\tprint((ls := f'Table {table_name} pickling took :: {time_end - time_beg}'))\n",
    "\tprint(len(ls) * '=')\n",
    "\t\n",
    "# pickle all tables to all tables file\n",
    "time_beg = datetime.now()\n",
    "with open('table_picklefiles/tables.pkl', 'wb') as pkl_file:\n",
    "\tpickle.dump(tables, pkl_file)\n",
    "time_end = datetime.now()\n",
    "print((ls := f'All tables pickling took :: {time_end - time_beg}'))\n",
    "print(len(ls) * '=')\n",
    "\n",
    "time_procend = datetime.now()\n",
    "print(f'\\tPROCESS TOOK {time_procend - time_procbeg}')"
   ]
  }
 ],
 "metadata": {
  "kernelspec": {
   "display_name": "venv",
   "language": "python",
   "name": "python3"
  },
  "language_info": {
   "codemirror_mode": {
    "name": "ipython",
    "version": 3
   },
   "file_extension": ".py",
   "mimetype": "text/x-python",
   "name": "python",
   "nbconvert_exporter": "python",
   "pygments_lexer": "ipython3",
   "version": "3.11.3"
  },
  "orig_nbformat": 4
 },
 "nbformat": 4,
 "nbformat_minor": 2
}
